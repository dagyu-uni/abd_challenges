{
 "cells": [
  {
   "cell_type": "code",
   "execution_count": 1,
   "metadata": {},
   "outputs": [],
   "source": [
    "import pyspark\n",
    "sc = pyspark.SparkContext(\"local[3]\")"
   ]
  },
  {
   "cell_type": "code",
   "execution_count": 2,
   "metadata": {},
   "outputs": [],
   "source": [
    "from dataGenerator.rowGenerator import *\n",
    "from dataGenerator.datasetGenerator import *\n",
    "\n",
    "dataset = datasetGenerator()\n",
    "dataset.addGenerator(idGenerator(),prefix=\"line\",min=1,max=5,keyName=\"lineId\")\n",
    "dataset.addGenerator(idGenerator(),prefix=\"item\",min=1,max=15,keyName=\"itemId\")\n",
    "dataset.addGenerator(tickGenerator(),minTick=600,maxTick=1800,keyName=\"creationDate\")\n",
    "dataset.addGenerator(intGenerator(),keyName=\"qty\")\n",
    "\n",
    "logRdd = sc.parallelize( dataset.generateDataset(25000)).persist()"
   ]
  },
  {
   "cell_type": "markdown",
   "metadata": {},
   "source": [
    "## Exercise (1): Similar statistics but on item,line couple"
   ]
  },
  {
   "cell_type": "code",
   "execution_count": 3,
   "metadata": {},
   "outputs": [
    {
     "data": {
      "text/plain": [
       "{'lineId': 'line_04',\n",
       " 'itemId': 'item_004',\n",
       " 'creationDate': datetime.datetime(2010, 1, 1, 0, 26, 31),\n",
       " 'qty': 746}"
      ]
     },
     "execution_count": 3,
     "metadata": {},
     "output_type": "execute_result"
    }
   ],
   "source": [
    "logRdd.first()"
   ]
  },
  {
   "cell_type": "code",
   "execution_count": 4,
   "metadata": {},
   "outputs": [],
   "source": [
    "def add(x,y): \n",
    "    return x+y"
   ]
  },
  {
   "cell_type": "markdown",
   "metadata": {},
   "source": [
    "## How many lines per item,line"
   ]
  },
  {
   "cell_type": "code",
   "execution_count": 5,
   "metadata": {},
   "outputs": [],
   "source": [
    "def extractItemLine(x):\n",
    "    return (x.get(\"itemId\"), x.get(\"lineId\"))"
   ]
  },
  {
   "cell_type": "code",
   "execution_count": 6,
   "metadata": {},
   "outputs": [
    {
     "data": {
      "text/plain": [
       "[(('item_008', 'line_04'), 378),\n",
       " (('item_002', 'line_05'), 368),\n",
       " (('item_014', 'line_03'), 368),\n",
       " (('item_010', 'line_05'), 367),\n",
       " (('item_006', 'line_01'), 364)]"
      ]
     },
     "execution_count": 6,
     "metadata": {},
     "output_type": "execute_result"
    }
   ],
   "source": [
    "logRdd.map(extractItemLine).map(lambda x: (x,1)).reduceByKey(add).sortBy(lambda x: x[1], ascending=False).take(5)"
   ]
  },
  {
   "cell_type": "markdown",
   "metadata": {},
   "source": [
    "## How much qty per item,line"
   ]
  },
  {
   "cell_type": "code",
   "execution_count": 7,
   "metadata": {},
   "outputs": [],
   "source": [
    "def extractItemLineWithQty(x):\n",
    "    return ((x.get(\"itemId\"), x.get(\"lineId\")), x.get(\"qty\"))"
   ]
  },
  {
   "cell_type": "code",
   "execution_count": 8,
   "metadata": {},
   "outputs": [
    {
     "data": {
      "text/plain": [
       "[(('item_002', 'line_05'), 190329),\n",
       " (('item_009', 'line_03'), 185257),\n",
       " (('item_014', 'line_04'), 185256),\n",
       " (('item_010', 'line_05'), 182061),\n",
       " (('item_002', 'line_01'), 181709)]"
      ]
     },
     "execution_count": 8,
     "metadata": {},
     "output_type": "execute_result"
    }
   ],
   "source": [
    "logRdd.map(extractItemLineWithQty).reduceByKey(add).sortBy(lambda x: x[1], ascending=False).take(5)"
   ]
  },
  {
   "cell_type": "markdown",
   "metadata": {},
   "source": [
    "## How much qty in average per item,line"
   ]
  },
  {
   "cell_type": "code",
   "execution_count": 9,
   "metadata": {},
   "outputs": [],
   "source": [
    "def extractItemLineWithQtyAndCounter(x):\n",
    "    return ((x.get(\"itemId\"), x.get(\"lineId\")),(x.get(\"qty\"), 1))\n",
    "\n",
    "def sumWithCounter(x,y): \n",
    "    return x[0]+y[0], x[1]+y[1]\n",
    "\n",
    "def calculateAvg(x):\n",
    "    return x[0], x[1][0]/x[1][1]"
   ]
  },
  {
   "cell_type": "code",
   "execution_count": 10,
   "metadata": {},
   "outputs": [
    {
     "data": {
      "text/plain": [
       "[(('item_002', 'line_01'), 540.8005952380952),\n",
       " (('item_015', 'line_02'), 532.8652694610779),\n",
       " (('item_014', 'line_04'), 529.3028571428572),\n",
       " (('item_009', 'line_03'), 527.7977207977208),\n",
       " (('item_008', 'line_05'), 526.7315634218289)]"
      ]
     },
     "execution_count": 10,
     "metadata": {},
     "output_type": "execute_result"
    }
   ],
   "source": [
    "logRdd.map(extractItemLineWithQtyAndCounter)\\\n",
    "    .reduceByKey(sumWithCounter).map(calculateAvg)\\\n",
    "    .sortBy(lambda x: x[1], ascending=False)\\\n",
    "    .take(5)"
   ]
  },
  {
   "cell_type": "markdown",
   "metadata": {},
   "source": [
    "# Exercise (2): why if we count, we see fewer items?"
   ]
  },
  {
   "cell_type": "markdown",
   "metadata": {},
   "source": [
    "## Creating data"
   ]
  },
  {
   "cell_type": "code",
   "execution_count": 11,
   "metadata": {},
   "outputs": [
    {
     "data": {
      "text/plain": [
       "25000"
      ]
     },
     "execution_count": 11,
     "metadata": {},
     "output_type": "execute_result"
    }
   ],
   "source": [
    "semiLogRdd = logRdd.map(lambda x: ((x.get(\"lineId\"),x.get(\"itemId\")),x)).persist()\n",
    "semiLogRdd.count()"
   ]
  },
  {
   "cell_type": "code",
   "execution_count": 12,
   "metadata": {},
   "outputs": [
    {
     "data": {
      "text/plain": [
       "(('line_04', 'item_004'),\n",
       " {'lineId': 'line_04',\n",
       "  'itemId': 'item_004',\n",
       "  'creationDate': datetime.datetime(2010, 1, 1, 0, 26, 31),\n",
       "  'qty': 746})"
      ]
     },
     "execution_count": 12,
     "metadata": {},
     "output_type": "execute_result"
    }
   ],
   "source": [
    "semiLogRdd.first()"
   ]
  },
  {
   "cell_type": "code",
   "execution_count": 13,
   "metadata": {},
   "outputs": [
    {
     "data": {
      "text/plain": [
       "8355312"
      ]
     },
     "execution_count": 13,
     "metadata": {},
     "output_type": "execute_result"
    }
   ],
   "source": [
    "joinedRDD = semiLogRdd.join(semiLogRdd).persist()\n",
    "joinedRDD.count()"
   ]
  },
  {
   "cell_type": "code",
   "execution_count": 14,
   "metadata": {},
   "outputs": [
    {
     "data": {
      "text/plain": [
       "(('line_05', 'item_010'),\n",
       " ({'lineId': 'line_05',\n",
       "   'itemId': 'item_010',\n",
       "   'creationDate': datetime.datetime(2010, 1, 1, 1, 33, 9),\n",
       "   'qty': 111},\n",
       "  {'lineId': 'line_05',\n",
       "   'itemId': 'item_010',\n",
       "   'creationDate': datetime.datetime(2010, 1, 1, 1, 33, 9),\n",
       "   'qty': 111}))"
      ]
     },
     "execution_count": 14,
     "metadata": {},
     "output_type": "execute_result"
    }
   ],
   "source": [
    "joinedRDD.first()"
   ]
  },
  {
   "cell_type": "code",
   "execution_count": 15,
   "metadata": {},
   "outputs": [
    {
     "data": {
      "text/plain": [
       "4165156"
      ]
     },
     "execution_count": 15,
     "metadata": {},
     "output_type": "execute_result"
    }
   ],
   "source": [
    "# we take only values with creationDate of left side lesser than creatioDate of right one\n",
    "triangleJoinedRdd = joinedRDD.filter(lambda x: x[1][0].get(\"creationDate\")<x[1][1].get(\"creationDate\")).persist()\n",
    "triangleJoinedRdd.count()"
   ]
  },
  {
   "cell_type": "code",
   "execution_count": 16,
   "metadata": {},
   "outputs": [
    {
     "data": {
      "text/plain": [
       "(('line_05', 'item_010'),\n",
       " ({'lineId': 'line_05',\n",
       "   'itemId': 'item_010',\n",
       "   'creationDate': datetime.datetime(2010, 1, 1, 1, 33, 9),\n",
       "   'qty': 111},\n",
       "  {'lineId': 'line_05',\n",
       "   'itemId': 'item_010',\n",
       "   'creationDate': datetime.datetime(2010, 1, 4, 8, 23, 34),\n",
       "   'qty': 944}))"
      ]
     },
     "execution_count": 16,
     "metadata": {},
     "output_type": "execute_result"
    }
   ],
   "source": [
    "triangleJoinedRdd.first()"
   ]
  },
  {
   "cell_type": "markdown",
   "metadata": {},
   "source": [
    "The schema is:\n",
    "\n",
    "**k: Key, v1: Value, v2: Value**\n",
    "    \n",
    "Where:\n",
    "\n",
    "* **Key : string, string**\n",
    "* **Value: {'lineId': string, 'itemId': string, 'creationDate': date, 'qty': int}**"
   ]
  },
  {
   "cell_type": "code",
   "execution_count": 17,
   "metadata": {},
   "outputs": [],
   "source": [
    "def extractItemLineWithCreationData(x):\n",
    "    key,value = x\n",
    "    left,right = value\n",
    "    new_key = key,left.get(\"creationDate\")\n",
    "    new_value = right.get(\"creationDate\") - left.get(\"creationDate\"), value\n",
    "    return new_key,new_value"
   ]
  },
  {
   "cell_type": "code",
   "execution_count": 18,
   "metadata": {},
   "outputs": [
    {
     "data": {
      "text/plain": [
       "((('line_05', 'item_010'), datetime.datetime(2010, 1, 1, 1, 33, 9)),\n",
       " (datetime.timedelta(days=3, seconds=24625),\n",
       "  ({'lineId': 'line_05',\n",
       "    'itemId': 'item_010',\n",
       "    'creationDate': datetime.datetime(2010, 1, 1, 1, 33, 9),\n",
       "    'qty': 111},\n",
       "   {'lineId': 'line_05',\n",
       "    'itemId': 'item_010',\n",
       "    'creationDate': datetime.datetime(2010, 1, 4, 8, 23, 34),\n",
       "    'qty': 944})))"
      ]
     },
     "execution_count": 18,
     "metadata": {},
     "output_type": "execute_result"
    }
   ],
   "source": [
    "# for each (item,line) we compute a new entry with \n",
    "#   key: old_key, creationDate of left\n",
    "#   value: deltaTime between left and side, old_value\n",
    "triangleJoinedRdd.map(extractItemLineWithCreationData).first()"
   ]
  },
  {
   "cell_type": "code",
   "execution_count": 19,
   "metadata": {},
   "outputs": [
    {
     "data": {
      "text/plain": [
       "{'lineId': 'line_05',\n",
       " 'itemId': 'item_010',\n",
       " 'creationDate': datetime.datetime(2010, 1, 4, 20, 21, 49),\n",
       " 'qty': 698,\n",
       " 'cycleTime': datetime.timedelta(seconds=2729)}"
      ]
     },
     "execution_count": 19,
     "metadata": {},
     "output_type": "execute_result"
    }
   ],
   "source": [
    "def compareDeltaTime(x,y):\n",
    "    return x if x[0]<y[0] else y\n",
    "\n",
    "def extractLeftItemLine(x):\n",
    "    key,value = x\n",
    "    deltaTime,(left,right) = value\n",
    "    left[\"cycleTime\"] = deltaTime\n",
    "    return left\n",
    "    \n",
    "enrichedLogRdd = triangleJoinedRdd.map(extractItemLineWithCreationData)\\\n",
    "                    .reduceByKey(compareDeltaTime)\\\n",
    "                    .map(extractLeftItemLine)\\\n",
    "                    .persist()\n",
    "enrichedLogRdd.first()"
   ]
  },
  {
   "cell_type": "markdown",
   "metadata": {},
   "source": [
    "## Solution\n",
    "\n",
    "To answer to this question we just have to understand the output, that is: *for each item that was produced by a line at a certain creationDate we take the item that is produced immediately after by the same line*.\n",
    "\n",
    "So, of course, if we take **the last item produced there is no item that was produced immediately after**.\n",
    "\n",
    "Furthermore *not by chance* the difference between the original data and the generated one is $75$."
   ]
  },
  {
   "cell_type": "code",
   "execution_count": 20,
   "metadata": {},
   "outputs": [
    {
     "data": {
      "text/plain": [
       "75"
      ]
     },
     "execution_count": 20,
     "metadata": {},
     "output_type": "execute_result"
    }
   ],
   "source": [
    "semiLogRdd.count() - enrichedLogRdd.count()"
   ]
  },
  {
   "cell_type": "markdown",
   "metadata": {},
   "source": [
    "This result is caused by the fact that in our dataset there are only $75$ different $(item, line)$ couple because we have $5$ line and $15$ item so the product is $75$. We can see that by running this code:"
   ]
  },
  {
   "cell_type": "code",
   "execution_count": 21,
   "metadata": {},
   "outputs": [
    {
     "data": {
      "text/plain": [
       "75"
      ]
     },
     "execution_count": 21,
     "metadata": {},
     "output_type": "execute_result"
    }
   ],
   "source": [
    "logRdd.map(extractItemLine).distinct().count()"
   ]
  },
  {
   "cell_type": "markdown",
   "metadata": {},
   "source": [
    "In the code, we drop the last $(item,line)$ couple produced when we apply the filter because we use $\\lt$ and of course for the last $(item,line)$ couple produced there is no couple that has a creationDate greater than itself.\n",
    "\n",
    "Hence if we use $\\lt=$ instead of $\\lt$ we obtain the same number of original data but with *deltatime* equal to $0$ for all couples."
   ]
  },
  {
   "cell_type": "markdown",
   "metadata": {},
   "source": [
    "### An example with a smaller Dataset\n",
    "\n",
    "Just to understand better if we have a smaller dataset:"
   ]
  },
  {
   "cell_type": "code",
   "execution_count": 22,
   "metadata": {},
   "outputs": [
    {
     "data": {
      "text/plain": [
       "[(('line_01', 'item_01'),\n",
       "  {'lineId': 'line_01',\n",
       "   'itemId': 'item_01',\n",
       "   'creationDate': datetime.datetime(2010, 1, 1, 0, 10, 30)}),\n",
       " (('line_01', 'item_01'),\n",
       "  {'lineId': 'line_01',\n",
       "   'itemId': 'item_01',\n",
       "   'creationDate': datetime.datetime(2010, 1, 1, 0, 30, 55)}),\n",
       " (('line_01', 'item_01'),\n",
       "  {'lineId': 'line_01',\n",
       "   'itemId': 'item_01',\n",
       "   'creationDate': datetime.datetime(2010, 1, 1, 0, 40, 53)}),\n",
       " (('line_01', 'item_01'),\n",
       "  {'lineId': 'line_01',\n",
       "   'itemId': 'item_01',\n",
       "   'creationDate': datetime.datetime(2010, 1, 1, 1, 2, 11)})]"
      ]
     },
     "execution_count": 22,
     "metadata": {},
     "output_type": "execute_result"
    }
   ],
   "source": [
    "smallDataset = datasetGenerator()\n",
    "smallDataset.addGenerator(idGenerator(),prefix=\"line\",min=1,max=1,keyName=\"lineId\")\n",
    "smallDataset.addGenerator(idGenerator(),prefix=\"item\",min=1,max=1,keyName=\"itemId\")\n",
    "smallDataset.addGenerator(tickGenerator(),minTick=600,maxTick=1800,keyName=\"creationDate\")\n",
    "\n",
    "smallLogRdd = sc.parallelize(smallDataset.generateDataset(4))\\\n",
    "    .map(lambda x: ((x.get(\"lineId\"),x.get(\"itemId\")),x))\\\n",
    "    .persist()\n",
    "\n",
    "smallLogRdd.collect()"
   ]
  },
  {
   "cell_type": "code",
   "execution_count": 23,
   "metadata": {},
   "outputs": [
    {
     "data": {
      "text/plain": [
       "16"
      ]
     },
     "execution_count": 23,
     "metadata": {},
     "output_type": "execute_result"
    }
   ],
   "source": [
    "smallJoinedRdd = smallLogRdd.join(smallLogRdd)\n",
    "smallJoinedRdd.count()"
   ]
  },
  {
   "cell_type": "markdown",
   "metadata": {},
   "source": [
    "With $4$ entry with the same key if we apply `join` function we obtain $16$ entries because is like a Cartesian Product"
   ]
  },
  {
   "cell_type": "code",
   "execution_count": 24,
   "metadata": {},
   "outputs": [
    {
     "data": {
      "text/plain": [
       "6"
      ]
     },
     "execution_count": 24,
     "metadata": {},
     "output_type": "execute_result"
    }
   ],
   "source": [
    "smallTriangleJoinedRdd = smallJoinedRdd.filter(lambda x: x[1][0].get(\"creationDate\")<x[1][1].get(\"creationDate\"))\\\n",
    "    .persist()\n",
    "smallTriangleJoinedRdd.count()"
   ]
  },
  {
   "cell_type": "code",
   "execution_count": 25,
   "metadata": {},
   "outputs": [
    {
     "data": {
      "text/plain": [
       "[{'lineId': 'line_01',\n",
       "  'itemId': 'item_01',\n",
       "  'creationDate': datetime.datetime(2010, 1, 1, 0, 30, 55),\n",
       "  'cycleTime': datetime.timedelta(seconds=598)},\n",
       " {'lineId': 'line_01',\n",
       "  'itemId': 'item_01',\n",
       "  'creationDate': datetime.datetime(2010, 1, 1, 0, 40, 53),\n",
       "  'cycleTime': datetime.timedelta(seconds=1278)},\n",
       " {'lineId': 'line_01',\n",
       "  'itemId': 'item_01',\n",
       "  'creationDate': datetime.datetime(2010, 1, 1, 0, 10, 30),\n",
       "  'cycleTime': datetime.timedelta(seconds=1225)}]"
      ]
     },
     "execution_count": 25,
     "metadata": {},
     "output_type": "execute_result"
    }
   ],
   "source": [
    "smallEnrichedLogRdd = smallTriangleJoinedRdd.map(extractItemLineWithCreationData)\\\n",
    "                    .reduceByKey(compareDeltaTime)\\\n",
    "                    .map(extractLeftItemLine)\n",
    "smallEnrichedLogRdd.collect()"
   ]
  },
  {
   "cell_type": "code",
   "execution_count": 26,
   "metadata": {},
   "outputs": [
    {
     "data": {
      "text/plain": [
       "3"
      ]
     },
     "execution_count": 26,
     "metadata": {},
     "output_type": "execute_result"
    }
   ],
   "source": [
    "smallEnrichedLogRdd.count()"
   ]
  },
  {
   "cell_type": "markdown",
   "metadata": {},
   "source": [
    "We started with $4$ entries and we obtain only $3$ entries because we lost the last *log data* produced since is filtered => of course there is no entry that has a creationDate bigger than the last data produced!!"
   ]
  },
  {
   "cell_type": "markdown",
   "metadata": {},
   "source": [
    "# Exercise (3): I want to see the histogram of cycle times"
   ]
  },
  {
   "cell_type": "code",
   "execution_count": 27,
   "metadata": {},
   "outputs": [],
   "source": [
    "data = enrichedLogRdd.map(lambda x: x[\"cycleTime\"].seconds).collect()"
   ]
  },
  {
   "cell_type": "code",
   "execution_count": 28,
   "metadata": {},
   "outputs": [
    {
     "data": {
      "image/png": "[encoded data removed]",
      "text/plain": [
       "<Figure size 432x288 with 1 Axes>"
      ]
     },
     "metadata": {
      "needs_background": "light"
     },
     "output_type": "display_data"
    }
   ],
   "source": [
    "import matplotlib.pyplot as plt\n",
    "import numpy as np\n",
    "plt.hist(data, bins=100)  \n",
    "plt.ylabel('Total')\n",
    "plt.xlabel('Cycle Time');\n",
    "plt.show()"
   ]
  }
 ],
 "metadata": {
  "kernelspec": {
   "display_name": "Python 3",
   "language": "python",
   "name": "python3"
  },
  "language_info": {
   "codemirror_mode": {
    "name": "ipython",
    "version": 3
   },
   "file_extension": ".py",
   "mimetype": "text/x-python",
   "name": "python",
   "nbconvert_exporter": "python",
   "pygments_lexer": "ipython3",
   "version": "3.8.6"
  }
 },
 "nbformat": 4,
 "nbformat_minor": 4
}
