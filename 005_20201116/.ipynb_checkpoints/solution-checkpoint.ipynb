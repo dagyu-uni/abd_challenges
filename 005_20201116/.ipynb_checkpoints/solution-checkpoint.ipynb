{
 "cells": [
  {
   "cell_type": "code",
   "execution_count": 1,
   "metadata": {},
   "outputs": [],
   "source": [
    "import pyspark\n",
    "sc = pyspark.SparkContext(\"local[3]\")"
   ]
  },
  {
   "cell_type": "code",
   "execution_count": 2,
   "metadata": {},
   "outputs": [],
   "source": [
    "from dataGenerator.rowGenerator import *\n",
    "from dataGenerator.datasetGenerator import *\n",
    "\n",
    "dataset = datasetGenerator()\n",
    "dataset.addGenerator(idGenerator(),prefix=\"line\",min=1,max=5,keyName=\"lineId\")\n",
    "dataset.addGenerator(idGenerator(),prefix=\"item\",min=1,max=15,keyName=\"itemId\")\n",
    "dataset.addGenerator(tickGenerator(),minTick=600,maxTick=1800,keyName=\"creationDate\")\n",
    "dataset.addGenerator(intGenerator(),keyName=\"qty\")\n",
    "\n",
    "logRdd = sc.parallelize( dataset.generateDataset(25000)).persist()"
   ]
  },
  {
   "cell_type": "markdown",
   "metadata": {},
   "source": [
    "## Exercise (1): Similar statistics but on item,line couple"
   ]
  },
  {
   "cell_type": "code",
   "execution_count": 3,
   "metadata": {},
   "outputs": [
    {
     "data": {
      "text/plain": [
       "{'lineId': 'line_02',\n",
       " 'itemId': 'item_009',\n",
       " 'creationDate': datetime.datetime(2010, 1, 1, 0, 24, 53),\n",
       " 'qty': 762}"
      ]
     },
     "execution_count": 3,
     "metadata": {},
     "output_type": "execute_result"
    }
   ],
   "source": [
    "logRdd.first()"
   ]
  },
  {
   "cell_type": "code",
   "execution_count": 4,
   "metadata": {},
   "outputs": [],
   "source": [
    "def add(x,y): \n",
    "    return x+y"
   ]
  },
  {
   "cell_type": "markdown",
   "metadata": {},
   "source": [
    "## How many lines per item,line"
   ]
  },
  {
   "cell_type": "code",
   "execution_count": 5,
   "metadata": {},
   "outputs": [],
   "source": [
    "def extractItemLine(x):\n",
    "    return (x.get(\"itemId\"), x.get(\"lineId\"))"
   ]
  },
  {
   "cell_type": "code",
   "execution_count": 6,
   "metadata": {},
   "outputs": [
    {
     "data": {
      "text/plain": [
       "[(('item_014', 'line_03'), 363),\n",
       " (('item_001', 'line_01'), 361),\n",
       " (('item_012', 'line_04'), 359),\n",
       " (('item_009', 'line_01'), 358),\n",
       " (('item_005', 'line_02'), 356)]"
      ]
     },
     "execution_count": 6,
     "metadata": {},
     "output_type": "execute_result"
    }
   ],
   "source": [
    "logRdd.map(extractItemLine).map(lambda x: (x,1)).reduceByKey(add).sortBy(lambda x: x[1], ascending=False).take(5)"
   ]
  },
  {
   "cell_type": "markdown",
   "metadata": {},
   "source": [
    "## How much qty per item,line"
   ]
  },
  {
   "cell_type": "code",
   "execution_count": 7,
   "metadata": {},
   "outputs": [],
   "source": [
    "def extractItemLineWithQty(x):\n",
    "    return ((x.get(\"itemId\"), x.get(\"lineId\")), x.get(\"qty\"))"
   ]
  },
  {
   "cell_type": "code",
   "execution_count": 8,
   "metadata": {},
   "outputs": [
    {
     "data": {
      "text/plain": [
       "[(('item_001', 'line_01'), 192119),\n",
       " (('item_010', 'line_05'), 188694),\n",
       " (('item_005', 'line_02'), 185394),\n",
       " (('item_006', 'line_02'), 183599),\n",
       " (('item_010', 'line_04'), 183505)]"
      ]
     },
     "execution_count": 8,
     "metadata": {},
     "output_type": "execute_result"
    }
   ],
   "source": [
    "logRdd.map(extractItemLineWithQty).reduceByKey(add).sortBy(lambda x: x[1], ascending=False).take(5)"
   ]
  },
  {
   "cell_type": "markdown",
   "metadata": {},
   "source": [
    "## How much qty in average per item,line"
   ]
  },
  {
   "cell_type": "code",
   "execution_count": 9,
   "metadata": {},
   "outputs": [],
   "source": [
    "def extractItemLineWithQtyAndCounter(x):\n",
    "    return ((x.get(\"itemId\"), x.get(\"lineId\")),(x.get(\"qty\"), 1))\n",
    "\n",
    "def sumWithCounter(x,y): \n",
    "    return x[0]+y[0], x[1]+y[1]\n",
    "\n",
    "def calculateAvg(x):\n",
    "    return x[0], x[1][0]/x[1][1]"
   ]
  },
  {
   "cell_type": "code",
   "execution_count": 10,
   "metadata": {},
   "outputs": [
    {
     "data": {
      "text/plain": [
       "[(('item_006', 'line_02'), 546.4255952380952),\n",
       " (('item_002', 'line_01'), 537.7341772151899),\n",
       " (('item_010', 'line_01'), 536.5424242424242),\n",
       " (('item_001', 'line_01'), 532.185595567867),\n",
       " (('item_010', 'line_04'), 531.8985507246376)]"
      ]
     },
     "execution_count": 10,
     "metadata": {},
     "output_type": "execute_result"
    }
   ],
   "source": [
    "logRdd.map(extractItemLineWithQtyAndCounter)\\\n",
    "    .reduceByKey(sumWithCounter).map(calculateAvg)\\\n",
    "    .sortBy(lambda x: x[1], ascending=False)\\\n",
    "    .take(5)"
   ]
  },
  {
   "cell_type": "markdown",
   "metadata": {},
   "source": [
    "# Exercise (2): why if we count, we see fewer items?"
   ]
  },
  {
   "cell_type": "code",
   "execution_count": 11,
   "metadata": {},
   "outputs": [
    {
     "data": {
      "text/plain": [
       "25000"
      ]
     },
     "execution_count": 11,
     "metadata": {},
     "output_type": "execute_result"
    }
   ],
   "source": [
    "semiLogRdd = logRdd.map(lambda x: ((x.get(\"lineId\"),x.get(\"itemId\")),x)).persist()\n",
    "semiLogRdd.count()"
   ]
  },
  {
   "cell_type": "code",
   "execution_count": 12,
   "metadata": {},
   "outputs": [
    {
     "data": {
      "text/plain": [
       "(('line_02', 'item_009'),\n",
       " {'lineId': 'line_02',\n",
       "  'itemId': 'item_009',\n",
       "  'creationDate': datetime.datetime(2010, 1, 1, 0, 24, 53),\n",
       "  'qty': 762})"
      ]
     },
     "execution_count": 12,
     "metadata": {},
     "output_type": "execute_result"
    }
   ],
   "source": [
    "semiLogRdd.first()"
   ]
  },
  {
   "cell_type": "code",
   "execution_count": 13,
   "metadata": {},
   "outputs": [
    {
     "data": {
      "text/plain": [
       "8356098"
      ]
     },
     "execution_count": 13,
     "metadata": {},
     "output_type": "execute_result"
    }
   ],
   "source": [
    "joinedRDD = semiLogRdd.join(semiLogRdd).persist()\n",
    "joinedRDD.count()"
   ]
  },
  {
   "cell_type": "code",
   "execution_count": 14,
   "metadata": {},
   "outputs": [
    {
     "data": {
      "text/plain": [
       "(('line_05', 'item_008'),\n",
       " ({'lineId': 'line_05',\n",
       "   'itemId': 'item_008',\n",
       "   'creationDate': datetime.datetime(2010, 1, 1, 1, 50, 44),\n",
       "   'qty': 629},\n",
       "  {'lineId': 'line_05',\n",
       "   'itemId': 'item_008',\n",
       "   'creationDate': datetime.datetime(2010, 1, 1, 1, 50, 44),\n",
       "   'qty': 629}))"
      ]
     },
     "execution_count": 14,
     "metadata": {},
     "output_type": "execute_result"
    }
   ],
   "source": [
    "joinedRDD.first()"
   ]
  },
  {
   "cell_type": "code",
   "execution_count": 15,
   "metadata": {},
   "outputs": [
    {
     "data": {
      "text/plain": [
       "4165549"
      ]
     },
     "execution_count": 15,
     "metadata": {},
     "output_type": "execute_result"
    }
   ],
   "source": [
    "# we take only values with creationDate of left side lesser than creatioDate of right one\n",
    "triangleJoinedRdd = joinedRDD.filter(lambda x: x[1][0].get(\"creationDate\")<x[1][1].get(\"creationDate\")).persist()\n",
    "triangleJoinedRdd.count()"
   ]
  },
  {
   "cell_type": "code",
   "execution_count": 16,
   "metadata": {},
   "outputs": [
    {
     "data": {
      "text/plain": [
       "(('line_05', 'item_008'),\n",
       " ({'lineId': 'line_05',\n",
       "   'itemId': 'item_008',\n",
       "   'creationDate': datetime.datetime(2010, 1, 1, 1, 50, 44),\n",
       "   'qty': 629},\n",
       "  {'lineId': 'line_05',\n",
       "   'itemId': 'item_008',\n",
       "   'creationDate': datetime.datetime(2010, 1, 1, 20, 42, 24),\n",
       "   'qty': 571}))"
      ]
     },
     "execution_count": 16,
     "metadata": {},
     "output_type": "execute_result"
    }
   ],
   "source": [
    "triangleJoinedRdd.first()"
   ]
  },
  {
   "cell_type": "markdown",
   "metadata": {},
   "source": [
    "The schema is:\n",
    "\n",
    "**k: Key, v1: Value, v2: Value**\n",
    "    \n",
    "Where:\n",
    "\n",
    "* **Key : string, string**\n",
    "* **Value: {'lineId': string, 'itemId': string, 'creationDate': date, 'qty': int}**"
   ]
  },
  {
   "cell_type": "code",
   "execution_count": 17,
   "metadata": {},
   "outputs": [],
   "source": [
    "def extractItemLineWithCreationData(x):\n",
    "    key,value = x\n",
    "    left,right = value\n",
    "    new_key = key,left.get(\"creationDate\")\n",
    "    new_value = right.get(\"creationDate\") - left.get(\"creationDate\"), value\n",
    "    return new_key,new_value"
   ]
  },
  {
   "cell_type": "code",
   "execution_count": 18,
   "metadata": {},
   "outputs": [
    {
     "data": {
      "text/plain": [
       "((('line_05', 'item_008'), datetime.datetime(2010, 1, 1, 1, 50, 44)),\n",
       " (datetime.timedelta(seconds=67900),\n",
       "  ({'lineId': 'line_05',\n",
       "    'itemId': 'item_008',\n",
       "    'creationDate': datetime.datetime(2010, 1, 1, 1, 50, 44),\n",
       "    'qty': 629},\n",
       "   {'lineId': 'line_05',\n",
       "    'itemId': 'item_008',\n",
       "    'creationDate': datetime.datetime(2010, 1, 1, 20, 42, 24),\n",
       "    'qty': 571})))"
      ]
     },
     "execution_count": 18,
     "metadata": {},
     "output_type": "execute_result"
    }
   ],
   "source": [
    "# for each (item,line) we compute a new entry with \n",
    "#   key: old_key, creationDate of left\n",
    "#   value: deltaTime between left and side, old_value\n",
    "triangleJoinedRdd.map(extractItemLineWithCreationData).first()"
   ]
  },
  {
   "cell_type": "code",
   "execution_count": 19,
   "metadata": {},
   "outputs": [
    {
     "data": {
      "text/plain": [
       "{'lineId': 'line_05',\n",
       " 'itemId': 'item_008',\n",
       " 'creationDate': datetime.datetime(2010, 1, 1, 20, 42, 24),\n",
       " 'qty': 571,\n",
       " 'cycleTime': datetime.timedelta(seconds=41483)}"
      ]
     },
     "execution_count": 19,
     "metadata": {},
     "output_type": "execute_result"
    }
   ],
   "source": [
    "def compareDeltaTime(x,y):\n",
    "    return x if x[0]<y[0] else y\n",
    "\n",
    "def extractLeftItemLine(x):\n",
    "    key,value = x\n",
    "    deltaTime,(left,right) = value\n",
    "    left[\"cycleTime\"] = deltaTime\n",
    "    return left\n",
    "    \n",
    "enrichedLogRdd = triangleJoinedRdd.map(extractItemLineWithCreationData)\\\n",
    "                    .reduceByKey(compareDeltaTime)\\\n",
    "                    .map(extractLeftItemLine)\\\n",
    "                    .persist()\n",
    "enrichedLogRdd.first()"
   ]
  },
  {
   "cell_type": "markdown",
   "metadata": {},
   "source": [
    "## Solution\n",
    "\n",
    "We see fewer items because we apply the function `reduceByKey`"
   ]
  },
  {
   "cell_type": "code",
   "execution_count": 20,
   "metadata": {},
   "outputs": [
    {
     "data": {
      "text/plain": [
       "24925"
      ]
     },
     "execution_count": 20,
     "metadata": {},
     "output_type": "execute_result"
    }
   ],
   "source": [
    "enrichedLogRdd.count()"
   ]
  },
  {
   "cell_type": "markdown",
   "metadata": {},
   "source": [
    "This number, obviously, is equal to the number of distinct key!!"
   ]
  },
  {
   "cell_type": "code",
   "execution_count": 21,
   "metadata": {},
   "outputs": [
    {
     "data": {
      "text/plain": [
       "24925"
      ]
     },
     "execution_count": 21,
     "metadata": {},
     "output_type": "execute_result"
    }
   ],
   "source": [
    "triangleJoinedRdd.map(extractItemLineWithCreationData)\\\n",
    "    .map(lambda x: x[0])\\\n",
    "    .distinct()\\\n",
    "    .count()"
   ]
  },
  {
   "cell_type": "markdown",
   "metadata": {},
   "source": [
    "Applying the `reduceKey` function the result that we obtain is essentialy: **For each item that was produced by a line at a certain creationDate we take the immediately after time when this item is produced by the same line**.\n",
    "\n",
    "Without applying the `reduceKey` function we have all possible combination so the number is bigger.\n",
    "\n",
    "\n",
    "Just for example if we have a smaller dataset:"
   ]
  },
  {
   "cell_type": "code",
   "execution_count": 22,
   "metadata": {},
   "outputs": [
    {
     "data": {
      "text/plain": [
       "[(('line_01', 'item_01'),\n",
       "  {'lineId': 'line_01',\n",
       "   'itemId': 'item_01',\n",
       "   'creationDate': datetime.datetime(2010, 1, 1, 0, 22, 17)}),\n",
       " (('line_01', 'item_01'),\n",
       "  {'lineId': 'line_01',\n",
       "   'itemId': 'item_01',\n",
       "   'creationDate': datetime.datetime(2010, 1, 1, 0, 40, 39)}),\n",
       " (('line_01', 'item_01'),\n",
       "  {'lineId': 'line_01',\n",
       "   'itemId': 'item_01',\n",
       "   'creationDate': datetime.datetime(2010, 1, 1, 0, 55, 48)}),\n",
       " (('line_01', 'item_01'),\n",
       "  {'lineId': 'line_01',\n",
       "   'itemId': 'item_01',\n",
       "   'creationDate': datetime.datetime(2010, 1, 1, 0, 59, 44)})]"
      ]
     },
     "execution_count": 22,
     "metadata": {},
     "output_type": "execute_result"
    }
   ],
   "source": [
    "smallDataset = datasetGenerator()\n",
    "smallDataset.addGenerator(idGenerator(),prefix=\"line\",min=1,max=1,keyName=\"lineId\")\n",
    "smallDataset.addGenerator(idGenerator(),prefix=\"item\",min=1,max=1,keyName=\"itemId\")\n",
    "smallDataset.addGenerator(tickGenerator(),minTick=600,maxTick=1800,keyName=\"creationDate\")\n",
    "\n",
    "smallLogRdd = sc.parallelize(smallDataset.generateDataset(4))\\\n",
    "    .map(lambda x: ((x.get(\"lineId\"),x.get(\"itemId\")),x))\\\n",
    "    .persist()\n",
    "\n",
    "smallLogRdd.collect()"
   ]
  },
  {
   "cell_type": "code",
   "execution_count": 23,
   "metadata": {},
   "outputs": [
    {
     "data": {
      "text/plain": [
       "16"
      ]
     },
     "execution_count": 23,
     "metadata": {},
     "output_type": "execute_result"
    }
   ],
   "source": [
    "smallJoinedRdd = smallLogRdd.join(smallLogRdd)\n",
    "smallJoinedRdd.count()"
   ]
  },
  {
   "cell_type": "markdown",
   "metadata": {},
   "source": [
    "With $4$ entry with the same key if we apply `join` function we obtain $16$ entries because is like a Cartesian Product"
   ]
  },
  {
   "cell_type": "code",
   "execution_count": 24,
   "metadata": {},
   "outputs": [
    {
     "data": {
      "text/plain": [
       "6"
      ]
     },
     "execution_count": 24,
     "metadata": {},
     "output_type": "execute_result"
    }
   ],
   "source": [
    "smallTriangleJoinedRdd = smallJoinedRdd.filter(lambda x: x[1][0].get(\"creationDate\")<x[1][1].get(\"creationDate\"))\\\n",
    "    .persist()\n",
    "smallTriangleJoinedRdd.count()"
   ]
  },
  {
   "cell_type": "code",
   "execution_count": 25,
   "metadata": {},
   "outputs": [
    {
     "data": {
      "text/plain": [
       "[{'lineId': 'line_01',\n",
       "  'itemId': 'item_01',\n",
       "  'creationDate': datetime.datetime(2010, 1, 1, 0, 55, 48),\n",
       "  'cycleTime': datetime.timedelta(seconds=236)},\n",
       " {'lineId': 'line_01',\n",
       "  'itemId': 'item_01',\n",
       "  'creationDate': datetime.datetime(2010, 1, 1, 0, 40, 39),\n",
       "  'cycleTime': datetime.timedelta(seconds=909)},\n",
       " {'lineId': 'line_01',\n",
       "  'itemId': 'item_01',\n",
       "  'creationDate': datetime.datetime(2010, 1, 1, 0, 22, 17),\n",
       "  'cycleTime': datetime.timedelta(seconds=1102)}]"
      ]
     },
     "execution_count": 25,
     "metadata": {},
     "output_type": "execute_result"
    }
   ],
   "source": [
    "smallEnrichedLogRdd = smallTriangleJoinedRdd.map(extractItemLineWithCreationData)\\\n",
    "                    .reduceByKey(compareDeltaTime)\\\n",
    "                    .map(extractLeftItemLine)\n",
    "smallEnrichedLogRdd.collect()"
   ]
  },
  {
   "cell_type": "code",
   "execution_count": 26,
   "metadata": {},
   "outputs": [
    {
     "data": {
      "text/plain": [
       "3"
      ]
     },
     "execution_count": 26,
     "metadata": {},
     "output_type": "execute_result"
    }
   ],
   "source": [
    "smallEnrichedLogRdd.count()"
   ]
  },
  {
   "cell_type": "markdown",
   "metadata": {},
   "source": [
    "We started with $4$ entries and we obtain only $3$ entries because we lost the last *log data* produced since is filtered => of course there is no entry that has a creationDate bigger than the last data produced!!"
   ]
  },
  {
   "cell_type": "markdown",
   "metadata": {},
   "source": [
    "# Exercise (3): I want to see the histogram of cycle times"
   ]
  },
  {
   "cell_type": "code",
   "execution_count": 27,
   "metadata": {},
   "outputs": [],
   "source": [
    "data = enrichedLogRdd.map(lambda x: x[\"cycleTime\"].seconds).collect()"
   ]
  },
  {
   "cell_type": "code",
   "execution_count": 28,
   "metadata": {},
   "outputs": [
    {
     "data": {
      "image/png": "[encoded data removed]",
      "text/plain": [
       "<Figure size 432x288 with 1 Axes>"
      ]
     },
     "metadata": {
      "needs_background": "light"
     },
     "output_type": "display_data"
    }
   ],
   "source": [
    "import matplotlib.pyplot as plt\n",
    "import numpy as np\n",
    "plt.hist(data, bins=100)  \n",
    "plt.ylabel('Total')\n",
    "plt.xlabel('Cycle Time');\n",
    "plt.show()"
   ]
  }
 ],
 "metadata": {
  "kernelspec": {
   "display_name": "Python 3",
   "language": "python",
   "name": "python3"
  },
  "language_info": {
   "codemirror_mode": {
    "name": "ipython",
    "version": 3
   },
   "file_extension": ".py",
   "mimetype": "text/x-python",
   "name": "python",
   "nbconvert_exporter": "python",
   "pygments_lexer": "ipython3",
   "version": "3.8.6"
  }
 },
 "nbformat": 4,
 "nbformat_minor": 4
}
