{
 "cells": [
  {
   "cell_type": "code",
   "execution_count": 1,
   "metadata": {},
   "outputs": [],
   "source": [
    "import matplotlib.pyplot as plt\n",
    "import numpy as np\n",
    "import json\n",
    "from functools import reduce"
   ]
  },
  {
   "cell_type": "code",
   "execution_count": 2,
   "metadata": {},
   "outputs": [],
   "source": [
    "# read from the dataset\n",
    "with open(\"generated.json\") as f:\n",
    "    data = json.load(f)\n",
    "\n",
    "# 1) from a rows to list of tuples with userId, cntTrack\n",
    "processingData = map(\n",
    "    lambda x: [(x[\"userId\"],v) for k,v in x.items() if k.startswith(\"track\")],\n",
    "    data\n",
    ")\n",
    "\n",
    "# 2) flat list\n",
    "processingData = reduce(list.__add__, processingData)\n",
    "\n",
    "# 3) aggregation\n",
    "def counter(acc, value):\n",
    "    userId, trackListened = value\n",
    "    if userId not in acc:\n",
    "        acc[userId] = (0,0)\n",
    "    summing,counting = acc[userId]\n",
    "    acc[userId] = (summing + trackListened, counting + 1) \n",
    "    return acc\n",
    "\n",
    "processingData = reduce(counter, processingData, {})\n",
    "\n",
    "# 4) calculate avg\n",
    "\n",
    "def calculateAvg(x):\n",
    "    userId, v = x\n",
    "    return userId, v[0]/v[1]\n",
    "\n",
    "processingData = map(\n",
    "    calculateAvg,\n",
    "    processingData.items()\n",
    ")\n",
    "\n",
    "data = list(processingData)"
   ]
  },
  {
   "cell_type": "code",
   "execution_count": 3,
   "metadata": {},
   "outputs": [
    {
     "data": {
      "image/png": "[encoded data removed]",
      "text/plain": [
       "<Figure size 432x288 with 1 Axes>"
      ]
     },
     "metadata": {
      "needs_background": "light"
     },
     "output_type": "display_data"
    }
   ],
   "source": [
    "# split for visualization\n",
    "users, avg = zip(*data)\n",
    "users = [\"#{}\".format(e) for e in users]\n",
    "plt.bar(users, avg, align=\"center\")\n",
    "plt.show()"
   ]
  }
 ],
 "metadata": {
  "kernelspec": {
   "display_name": "Python 3",
   "language": "python",
   "name": "python3"
  },
  "language_info": {
   "codemirror_mode": {
    "name": "ipython",
    "version": 3
   },
   "file_extension": ".py",
   "mimetype": "text/x-python",
   "name": "python",
   "nbconvert_exporter": "python",
   "pygments_lexer": "ipython3",
   "version": "3.8.2"
  }
 },
 "nbformat": 4,
 "nbformat_minor": 4
}
